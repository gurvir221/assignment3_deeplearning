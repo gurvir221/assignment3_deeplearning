{
 "cells": [
  {
   "cell_type": "code",
   "execution_count": 1,
   "metadata": {},
   "outputs": [
    {
     "name": "stderr",
     "output_type": "stream",
     "text": [
      "Using TensorFlow backend.\n"
     ]
    }
   ],
   "source": [
    "import pickle\n",
    "import keras\n",
    "from keras.datasets import mnist\n",
    "from keras.models import Sequential\n",
    "from keras.layers import Dense,Dropout,Flatten,Activation,Conv2D,MaxPooling2D,MaxPool2D\n",
    "from keras import backend as K\n",
    "import numpy as np\n",
    "import tensorflow as tf\n",
    "from keras.layers.advanced_activations import LeakyReLU\n",
    "from keras.callbacks import ModelCheckpoint"
   ]
  },
  {
   "cell_type": "markdown",
   "metadata": {},
   "source": [
    "# Unpickling trainX and trainY"
   ]
  },
  {
   "cell_type": "code",
   "execution_count": 3,
   "metadata": {},
   "outputs": [],
   "source": [
    "pickle_trainX=open(\"trainX.pickle\",\"rb\")\n",
    "pickle_trainY=open(\"trainY.pickle\",\"rb\")"
   ]
  },
  {
   "cell_type": "code",
   "execution_count": 4,
   "metadata": {},
   "outputs": [],
   "source": [
    "x_train=pickle.load(pickle_trainX)\n",
    "y_train=pickle.load(pickle_trainY)"
   ]
  },
  {
   "cell_type": "code",
   "execution_count": 5,
   "metadata": {},
   "outputs": [
    {
     "name": "stdout",
     "output_type": "stream",
     "text": [
      "(60000, 28, 28)\n",
      "(60000,)\n"
     ]
    }
   ],
   "source": [
    "print(x_train.shape)\n",
    "print(y_train.shape)"
   ]
  },
  {
   "cell_type": "code",
   "execution_count": 6,
   "metadata": {},
   "outputs": [
    {
     "data": {
      "text/plain": [
       "array([[[0, 0, 0, ..., 0, 0, 0],\n",
       "        [0, 0, 0, ..., 0, 0, 0],\n",
       "        [0, 0, 0, ..., 0, 0, 0],\n",
       "        ...,\n",
       "        [0, 0, 0, ..., 0, 0, 0],\n",
       "        [0, 0, 0, ..., 0, 0, 0],\n",
       "        [0, 0, 0, ..., 0, 0, 0]],\n",
       "\n",
       "       [[0, 0, 0, ..., 0, 0, 0],\n",
       "        [0, 0, 0, ..., 0, 0, 0],\n",
       "        [0, 0, 0, ..., 0, 0, 0],\n",
       "        ...,\n",
       "        [0, 0, 0, ..., 0, 0, 0],\n",
       "        [0, 0, 0, ..., 0, 0, 0],\n",
       "        [0, 0, 0, ..., 0, 0, 0]],\n",
       "\n",
       "       [[0, 0, 0, ..., 0, 0, 0],\n",
       "        [0, 0, 0, ..., 0, 0, 0],\n",
       "        [0, 0, 0, ..., 0, 0, 0],\n",
       "        ...,\n",
       "        [0, 0, 0, ..., 0, 0, 0],\n",
       "        [0, 0, 0, ..., 0, 0, 0],\n",
       "        [0, 0, 0, ..., 0, 0, 0]],\n",
       "\n",
       "       ...,\n",
       "\n",
       "       [[0, 0, 0, ..., 0, 0, 0],\n",
       "        [0, 0, 0, ..., 0, 0, 0],\n",
       "        [0, 0, 0, ..., 0, 0, 0],\n",
       "        ...,\n",
       "        [0, 0, 0, ..., 0, 0, 0],\n",
       "        [0, 0, 0, ..., 0, 0, 0],\n",
       "        [0, 0, 0, ..., 0, 0, 0]],\n",
       "\n",
       "       [[0, 0, 0, ..., 0, 0, 0],\n",
       "        [0, 0, 0, ..., 0, 0, 0],\n",
       "        [0, 0, 0, ..., 0, 0, 0],\n",
       "        ...,\n",
       "        [0, 0, 0, ..., 0, 0, 0],\n",
       "        [0, 0, 0, ..., 0, 0, 0],\n",
       "        [0, 0, 0, ..., 0, 0, 0]],\n",
       "\n",
       "       [[0, 0, 0, ..., 0, 0, 0],\n",
       "        [0, 0, 0, ..., 0, 0, 0],\n",
       "        [0, 0, 0, ..., 0, 0, 0],\n",
       "        ...,\n",
       "        [0, 0, 0, ..., 0, 0, 0],\n",
       "        [0, 0, 0, ..., 0, 0, 0],\n",
       "        [0, 0, 0, ..., 0, 0, 0]]], dtype=uint8)"
      ]
     },
     "execution_count": 6,
     "metadata": {},
     "output_type": "execute_result"
    }
   ],
   "source": [
    "x_train"
   ]
  },
  {
   "cell_type": "markdown",
   "metadata": {},
   "source": [
    "# Splitting"
   ]
  },
  {
   "cell_type": "code",
   "execution_count": 7,
   "metadata": {},
   "outputs": [],
   "source": [
    "from sklearn.model_selection import train_test_split\n",
    "\n",
    "#split the train and the validation set\n",
    "x_train,x_test,y_train,y_test=train_test_split(x_train,y_train,test_size=0.2,random_state=2)\n"
   ]
  },
  {
   "cell_type": "code",
   "execution_count": 8,
   "metadata": {
    "scrolled": true
   },
   "outputs": [
    {
     "name": "stdout",
     "output_type": "stream",
     "text": [
      "x_train (48000, 28, 28)\n",
      "x_test (12000, 28, 28)\n",
      "y_train (48000,)\n",
      "y_test (12000,)\n"
     ]
    }
   ],
   "source": [
    "print(\"x_train\",x_train.shape)\n",
    "print(\"x_test\",x_test.shape)\n",
    "print(\"y_train\",y_train.shape)\n",
    "print(\"y_test\",y_test.shape)"
   ]
  },
  {
   "cell_type": "markdown",
   "metadata": {},
   "source": [
    "# Total labels"
   ]
  },
  {
   "cell_type": "code",
   "execution_count": 9,
   "metadata": {},
   "outputs": [
    {
     "data": {
      "text/plain": [
       "{0, 1, 2, 3, 4, 5, 6, 7, 8, 9}"
      ]
     },
     "execution_count": 9,
     "metadata": {},
     "output_type": "execute_result"
    }
   ],
   "source": [
    "set(y_train)"
   ]
  },
  {
   "cell_type": "markdown",
   "metadata": {},
   "source": [
    "# Visualisation"
   ]
  },
  {
   "cell_type": "code",
   "execution_count": 10,
   "metadata": {},
   "outputs": [
    {
     "data": {
      "image/png": "[encoded data removed]",
      "text/plain": [
       "<Figure size 432x288 with 9 Axes>"
      ]
     },
     "metadata": {
      "needs_background": "light"
     },
     "output_type": "display_data"
    }
   ],
   "source": [
    "import matplotlib.pyplot as plt\n",
    "import matplotlib.image as mpimg\n",
    "%matplotlib inline\n",
    "\n",
    "for i in range(0,9):\n",
    "    plt.subplot(330+(i+1))\n",
    "    plt.imshow(x_train[i],cmap=plt.get_cmap('gray'))\n",
    "    plt.title(y_train[i]);"
   ]
  },
  {
   "cell_type": "markdown",
   "metadata": {},
   "source": [
    "# Normalising"
   ]
  },
  {
   "cell_type": "code",
   "execution_count": 11,
   "metadata": {},
   "outputs": [],
   "source": [
    "x_train = tf.keras.utils.normalize(x_train, axis=1)\n",
    "x_test = tf.keras.utils.normalize(x_test, axis=1)"
   ]
  },
  {
   "cell_type": "code",
   "execution_count": 12,
   "metadata": {},
   "outputs": [
    {
     "data": {
      "image/png": "[encoded data removed]",
      "text/plain": [
       "<Figure size 432x288 with 1 Axes>"
      ]
     },
     "metadata": {
      "needs_background": "light"
     },
     "output_type": "display_data"
    }
   ],
   "source": [
    "plt.imshow(x_train[1], cmap = plt.cm.binary)\n",
    "plt.show()"
   ]
  },
  {
   "cell_type": "markdown",
   "metadata": {},
   "source": [
    "# One-hot encoding"
   ]
  },
  {
   "cell_type": "code",
   "execution_count": 13,
   "metadata": {},
   "outputs": [],
   "source": [
    "img_rows,img_cols=28,28"
   ]
  },
  {
   "cell_type": "code",
   "execution_count": 14,
   "metadata": {},
   "outputs": [],
   "source": [
    "x_train = x_train.reshape(x_train.shape[0], img_rows, img_cols,1)\n",
    "x_test = x_test.reshape(x_test.shape[0],img_rows, img_cols, 1)\n",
    "input_shape = (img_rows, img_cols, 1)"
   ]
  },
  {
   "cell_type": "code",
   "execution_count": 15,
   "metadata": {
    "scrolled": true
   },
   "outputs": [
    {
     "name": "stdout",
     "output_type": "stream",
     "text": [
      "(48000, 28, 28, 1) (12000, 28, 28, 1)\n"
     ]
    }
   ],
   "source": [
    "print(x_train.shape,x_test.shape)"
   ]
  },
  {
   "cell_type": "code",
   "execution_count": 16,
   "metadata": {},
   "outputs": [
    {
     "data": {
      "text/plain": [
       "(28, 28, 1)"
      ]
     },
     "execution_count": 16,
     "metadata": {},
     "output_type": "execute_result"
    }
   ],
   "source": [
    "input_shape"
   ]
  },
  {
   "cell_type": "code",
   "execution_count": 17,
   "metadata": {},
   "outputs": [],
   "source": [
    "batch_size=128\n",
    "num_classes=10\n",
    "epochs=30"
   ]
  },
  {
   "cell_type": "code",
   "execution_count": 18,
   "metadata": {
    "scrolled": false
   },
   "outputs": [
    {
     "name": "stdout",
     "output_type": "stream",
     "text": [
      "X_train shape: (48000, 28, 28, 1)\n",
      "X_test shape: (12000, 28, 28, 1)\n",
      "48000 train samples\n",
      "12000 test samples\n"
     ]
    }
   ],
   "source": [
    "x_train=x_train.astype('float32')\n",
    "x_test=x_test.astype('float32')\n",
    "\n",
    "print('X_train shape:',x_train.shape)\n",
    "print('X_test shape:', x_test.shape)\n",
    "print(x_train.shape[0],'train samples')\n",
    "print(x_test.shape[0],'test samples')\n",
    "\n",
    "y_train=keras.utils.to_categorical(y_train,num_classes)\n",
    "y_test=keras.utils.to_categorical(y_test,num_classes)"
   ]
  },
  {
   "cell_type": "markdown",
   "metadata": {},
   "source": [
    "# Model"
   ]
  },
  {
   "cell_type": "code",
   "execution_count": 20,
   "metadata": {
    "scrolled": false
   },
   "outputs": [
    {
     "name": "stdout",
     "output_type": "stream",
     "text": [
      "_________________________________________________________________\n",
      "Layer (type)                 Output Shape              Param #   \n",
      "=================================================================\n",
      "conv2d_4 (Conv2D)            (None, 28, 28, 32)        320       \n",
      "_________________________________________________________________\n",
      "activation_6 (Activation)    (None, 28, 28, 32)        0         \n",
      "_________________________________________________________________\n",
      "max_pooling2d_4 (MaxPooling2 (None, 14, 14, 32)        0         \n",
      "_________________________________________________________________\n",
      "conv2d_5 (Conv2D)            (None, 14, 14, 32)        9248      \n",
      "_________________________________________________________________\n",
      "activation_7 (Activation)    (None, 14, 14, 32)        0         \n",
      "_________________________________________________________________\n",
      "max_pooling2d_5 (MaxPooling2 (None, 7, 7, 32)          0         \n",
      "_________________________________________________________________\n",
      "conv2d_6 (Conv2D)            (None, 7, 7, 16)          4624      \n",
      "_________________________________________________________________\n",
      "activation_8 (Activation)    (None, 7, 7, 16)          0         \n",
      "_________________________________________________________________\n",
      "max_pooling2d_6 (MaxPooling2 (None, 3, 3, 16)          0         \n",
      "_________________________________________________________________\n",
      "flatten_2 (Flatten)          (None, 144)               0         \n",
      "_________________________________________________________________\n",
      "dense_3 (Dense)              (None, 128)               18560     \n",
      "_________________________________________________________________\n",
      "activation_9 (Activation)    (None, 128)               0         \n",
      "_________________________________________________________________\n",
      "dropout_2 (Dropout)          (None, 128)               0         \n",
      "_________________________________________________________________\n",
      "dense_4 (Dense)              (None, 10)                1290      \n",
      "_________________________________________________________________\n",
      "activation_10 (Activation)   (None, 10)                0         \n",
      "=================================================================\n",
      "Total params: 34,042\n",
      "Trainable params: 34,042\n",
      "Non-trainable params: 0\n",
      "_________________________________________________________________\n"
     ]
    }
   ],
   "source": [
    "model = Sequential()\n",
    "\n",
    "model.add(Conv2D(32, (3, 3), padding=\"same\",input_shape=(28,28,1)))\n",
    "model.add(Activation(\"relu\"))\n",
    "model.add(MaxPooling2D(pool_size=(2, 2)))\n",
    "\n",
    "\n",
    "model.add(Conv2D(32, (3,3), padding=\"same\"))\n",
    "model.add(Activation(\"relu\"))\n",
    "model.add(MaxPooling2D(pool_size=(2, 2)))\n",
    "\n",
    "\n",
    "model.add(Conv2D(16, (3,3), padding=\"same\"))\n",
    "model.add(Activation(\"relu\"))\n",
    "model.add(MaxPooling2D(pool_size=(2, 2)))\n",
    "\n",
    "\n",
    "model.add(Flatten())\n",
    "model.add(Dense(128))\n",
    "model.add(Activation(\"relu\"))\n",
    "model.add(Dropout(0.25))\n",
    "\n",
    "model.add(Dense(10))\n",
    "model.add(Activation(\"softmax\"))\n",
    "model.summary()"
   ]
  },
  {
   "cell_type": "code",
   "execution_count": 22,
   "metadata": {},
   "outputs": [],
   "source": [
    "model.compile(optimizer='adam', loss='categorical_crossentropy', metrics=['accuracy'])"
   ]
  },
  {
   "cell_type": "code",
   "execution_count": 24,
   "metadata": {
    "scrolled": false
   },
   "outputs": [
    {
     "name": "stdout",
     "output_type": "stream",
     "text": [
      "Train on 48000 samples, validate on 12000 samples\n",
      "Epoch 1/30\n",
      "48000/48000 [==============================] - 43s 903us/step - loss: 0.6015 - acc: 0.7772 - val_loss: 0.4604 - val_acc: 0.8310\n",
      "\n",
      "Epoch 00001: val_loss improved from inf to 0.46043, saving model to model.h5\n",
      "Epoch 2/30\n",
      "48000/48000 [==============================] - 42s 877us/step - loss: 0.4648 - acc: 0.8303 - val_loss: 0.4019 - val_acc: 0.8532\n",
      "\n",
      "Epoch 00002: val_loss improved from 0.46043 to 0.40191, saving model to model.h5\n",
      "Epoch 3/30\n",
      "48000/48000 [==============================] - 43s 891us/step - loss: 0.4174 - acc: 0.8472 - val_loss: 0.3783 - val_acc: 0.8586\n",
      "\n",
      "Epoch 00003: val_loss improved from 0.40191 to 0.37832, saving model to model.h5\n",
      "Epoch 4/30\n",
      "48000/48000 [==============================] - 44s 908us/step - loss: 0.3840 - acc: 0.8576 - val_loss: 0.3538 - val_acc: 0.8678\n",
      "\n",
      "Epoch 00004: val_loss improved from 0.37832 to 0.35375, saving model to model.h5\n",
      "Epoch 5/30\n",
      "48000/48000 [==============================] - 43s 892us/step - loss: 0.3632 - acc: 0.8657 - val_loss: 0.3405 - val_acc: 0.8711\n",
      "\n",
      "Epoch 00005: val_loss improved from 0.35375 to 0.34055, saving model to model.h5\n",
      "Epoch 6/30\n",
      "48000/48000 [==============================] - 42s 885us/step - loss: 0.3434 - acc: 0.8732 - val_loss: 0.3344 - val_acc: 0.8773\n",
      "\n",
      "Epoch 00006: val_loss improved from 0.34055 to 0.33436, saving model to model.h5\n",
      "Epoch 7/30\n",
      "48000/48000 [==============================] - 42s 885us/step - loss: 0.3283 - acc: 0.8796 - val_loss: 0.3104 - val_acc: 0.8852\n",
      "\n",
      "Epoch 00007: val_loss improved from 0.33436 to 0.31036, saving model to model.h5\n",
      "Epoch 8/30\n",
      "48000/48000 [==============================] - 43s 891us/step - loss: 0.3172 - acc: 0.8832 - val_loss: 0.3015 - val_acc: 0.8894\n",
      "\n",
      "Epoch 00008: val_loss improved from 0.31036 to 0.30150, saving model to model.h5\n",
      "Epoch 9/30\n",
      "48000/48000 [==============================] - 43s 893us/step - loss: 0.3064 - acc: 0.8870 - val_loss: 0.2987 - val_acc: 0.8907\n",
      "\n",
      "Epoch 00009: val_loss improved from 0.30150 to 0.29870, saving model to model.h5\n",
      "Epoch 10/30\n",
      "48000/48000 [==============================] - 43s 895us/step - loss: 0.2961 - acc: 0.8915 - val_loss: 0.3027 - val_acc: 0.8866\n",
      "\n",
      "Epoch 00010: val_loss did not improve from 0.29870\n",
      "Epoch 11/30\n",
      "48000/48000 [==============================] - 43s 898us/step - loss: 0.2876 - acc: 0.8939 - val_loss: 0.2875 - val_acc: 0.8932\n",
      "\n",
      "Epoch 00011: val_loss improved from 0.29870 to 0.28754, saving model to model.h5\n",
      "Epoch 12/30\n",
      "48000/48000 [==============================] - 43s 898us/step - loss: 0.2816 - acc: 0.8948 - val_loss: 0.2826 - val_acc: 0.8933\n",
      "\n",
      "Epoch 00012: val_loss improved from 0.28754 to 0.28257, saving model to model.h5\n",
      "Epoch 13/30\n",
      "48000/48000 [==============================] - 43s 900us/step - loss: 0.2730 - acc: 0.8986 - val_loss: 0.2755 - val_acc: 0.8959\n",
      "\n",
      "Epoch 00013: val_loss improved from 0.28257 to 0.27551, saving model to model.h5\n",
      "Epoch 14/30\n",
      "48000/48000 [==============================] - 43s 899us/step - loss: 0.2634 - acc: 0.9020 - val_loss: 0.2682 - val_acc: 0.8990\n",
      "\n",
      "Epoch 00014: val_loss improved from 0.27551 to 0.26820, saving model to model.h5\n",
      "Epoch 15/30\n",
      "48000/48000 [==============================] - 43s 900us/step - loss: 0.2580 - acc: 0.9035 - val_loss: 0.2688 - val_acc: 0.9011\n",
      "\n",
      "Epoch 00015: val_loss did not improve from 0.26820\n",
      "Epoch 16/30\n",
      "48000/48000 [==============================] - 43s 895us/step - loss: 0.2546 - acc: 0.9034 - val_loss: 0.2673 - val_acc: 0.9009\n",
      "\n",
      "Epoch 00016: val_loss improved from 0.26820 to 0.26734, saving model to model.h5\n",
      "Epoch 17/30\n",
      "48000/48000 [==============================] - 43s 895us/step - loss: 0.2482 - acc: 0.9062 - val_loss: 0.2805 - val_acc: 0.8965\n",
      "\n",
      "Epoch 00017: val_loss did not improve from 0.26734\n",
      "Epoch 18/30\n",
      "48000/48000 [==============================] - 43s 898us/step - loss: 0.2463 - acc: 0.9071 - val_loss: 0.2627 - val_acc: 0.9022\n",
      "\n",
      "Epoch 00018: val_loss improved from 0.26734 to 0.26273, saving model to model.h5\n",
      "Epoch 19/30\n",
      "48000/48000 [==============================] - 44s 908us/step - loss: 0.2408 - acc: 0.9099 - val_loss: 0.2617 - val_acc: 0.9037\n",
      "\n",
      "Epoch 00019: val_loss improved from 0.26273 to 0.26171, saving model to model.h5\n",
      "Epoch 20/30\n",
      "48000/48000 [==============================] - 43s 895us/step - loss: 0.2329 - acc: 0.9131 - val_loss: 0.2705 - val_acc: 0.9003\n",
      "\n",
      "Epoch 00020: val_loss did not improve from 0.26171\n",
      "Epoch 21/30\n",
      "48000/48000 [==============================] - 43s 889us/step - loss: 0.2312 - acc: 0.9134 - val_loss: 0.2590 - val_acc: 0.9023\n",
      "\n",
      "Epoch 00021: val_loss improved from 0.26171 to 0.25899, saving model to model.h5\n",
      "Epoch 22/30\n",
      "48000/48000 [==============================] - 43s 903us/step - loss: 0.2253 - acc: 0.9148 - val_loss: 0.2547 - val_acc: 0.9045\n",
      "\n",
      "Epoch 00022: val_loss improved from 0.25899 to 0.25467, saving model to model.h5\n",
      "Epoch 23/30\n",
      "48000/48000 [==============================] - 44s 908us/step - loss: 0.2224 - acc: 0.9152 - val_loss: 0.2549 - val_acc: 0.9051\n",
      "\n",
      "Epoch 00023: val_loss did not improve from 0.25467\n",
      "Epoch 24/30\n",
      "48000/48000 [==============================] - 44s 923us/step - loss: 0.2161 - acc: 0.9185 - val_loss: 0.2574 - val_acc: 0.9048\n",
      "\n",
      "Epoch 00024: val_loss did not improve from 0.25467\n",
      "Epoch 25/30\n",
      "48000/48000 [==============================] - 43s 889us/step - loss: 0.2152 - acc: 0.9189 - val_loss: 0.2594 - val_acc: 0.9043\n",
      "\n",
      "Epoch 00025: val_loss did not improve from 0.25467\n",
      "Epoch 26/30\n",
      "48000/48000 [==============================] - 43s 892us/step - loss: 0.2099 - acc: 0.9218 - val_loss: 0.2669 - val_acc: 0.9042\n",
      "\n",
      "Epoch 00026: val_loss did not improve from 0.25467\n",
      "Epoch 27/30\n",
      "48000/48000 [==============================] - 43s 902us/step - loss: 0.2063 - acc: 0.9204 - val_loss: 0.2499 - val_acc: 0.9097\n",
      "\n",
      "Epoch 00027: val_loss improved from 0.25467 to 0.24993, saving model to model.h5\n",
      "Epoch 28/30\n",
      "48000/48000 [==============================] - 43s 886us/step - loss: 0.2033 - acc: 0.9229 - val_loss: 0.2509 - val_acc: 0.9093\n",
      "\n",
      "Epoch 00028: val_loss did not improve from 0.24993\n",
      "Epoch 29/30\n",
      "48000/48000 [==============================] - 43s 901us/step - loss: 0.1977 - acc: 0.9250 - val_loss: 0.2526 - val_acc: 0.9076\n",
      "\n",
      "Epoch 00029: val_loss did not improve from 0.24993\n",
      "Epoch 30/30\n",
      "48000/48000 [==============================] - 43s 886us/step - loss: 0.1969 - acc: 0.9261 - val_loss: 0.2521 - val_acc: 0.9087\n",
      "\n",
      "Epoch 00030: val_loss did not improve from 0.24993\n",
      "Test_loss : 0.25205488155285516\n",
      "Test_accuracy : 0.9086666666666666\n"
     ]
    }
   ],
   "source": [
    "check = ModelCheckpoint('model.h5', monitor='val_loss', verbose=1, save_best_only=True,save_weights_only=False,\n",
    "                     mode='auto', period=1)\n",
    "newmodel = model.fit(x_train, y_train,\n",
    "         batch_size = batch_size,\n",
    "         epochs = epochs,\n",
    "         verbose = 1,\n",
    "         validation_data = (x_test, y_test),\n",
    "         callbacks=[check])\n",
    "\n",
    "score = model.evaluate(x_test, y_test, verbose=0)\n",
    "print('Test_loss :', score[0])\n",
    "print('Test_accuracy :', score[1])"
   ]
  },
  {
   "cell_type": "code",
   "execution_count": 25,
   "metadata": {},
   "outputs": [
    {
     "data": {
      "image/png": "[encoded data removed]",
      "text/plain": [
       "<Figure size 432x288 with 1 Axes>"
      ]
     },
     "metadata": {
      "needs_background": "light"
     },
     "output_type": "display_data"
    },
    {
     "data": {
      "image/png": "[encoded data removed]",
      "text/plain": [
       "<Figure size 432x288 with 1 Axes>"
      ]
     },
     "metadata": {
      "needs_background": "light"
     },
     "output_type": "display_data"
    }
   ],
   "source": [
    "plt.figure()\n",
    "plt.plot(newmodel.history['acc'], 'r', label='Training Accuracy')\n",
    "plt.plot(newmodel.history['val_acc'], 'b', label='Testing Accuracy')\n",
    "plt.legend()\n",
    "plt.show()\n",
    "\n",
    "plt.figure()\n",
    "plt.plot(newmodel.history['loss'], 'r', label='Training Loss')\n",
    "plt.plot(newmodel.history['val_loss'], 'b', label='Testing Loss')\n",
    "plt.legend()\n",
    "plt.show()"
   ]
  },
  {
   "cell_type": "markdown",
   "metadata": {},
   "source": [
    "# Predictions for the testX file"
   ]
  },
  {
   "cell_type": "code",
   "execution_count": 26,
   "metadata": {},
   "outputs": [],
   "source": [
    "pickle_testX = open(\"testX.pickle\",\"rb\")\n",
    "testX = pickle.load(pickle_testX)"
   ]
  },
  {
   "cell_type": "code",
   "execution_count": 27,
   "metadata": {},
   "outputs": [
    {
     "name": "stdout",
     "output_type": "stream",
     "text": [
      "(10000, 28, 28)\n"
     ]
    }
   ],
   "source": [
    "print(testX.shape)"
   ]
  },
  {
   "cell_type": "code",
   "execution_count": 28,
   "metadata": {},
   "outputs": [],
   "source": [
    "testX = testX.astype('float32')\n",
    "testX /= 255\n",
    "testX = testX.reshape(10000,28,28,1)"
   ]
  },
  {
   "cell_type": "code",
   "execution_count": 29,
   "metadata": {},
   "outputs": [],
   "source": [
    "y_pred = model.predict_classes(testX)"
   ]
  },
  {
   "cell_type": "markdown",
   "metadata": {},
   "source": [
    "# Writing prediction results to output.pickle file"
   ]
  },
  {
   "cell_type": "code",
   "execution_count": 30,
   "metadata": {},
   "outputs": [],
   "source": [
    "with open('output.pickle','wb') as f:\n",
    "    pickle.dump(y_pred,f)"
   ]
  }
 ],
 "metadata": {
  "kernelspec": {
   "display_name": "Python 3",
   "language": "python",
   "name": "python3"
  },
  "language_info": {
   "codemirror_mode": {
    "name": "ipython",
    "version": 3
   },
   "file_extension": ".py",
   "mimetype": "text/x-python",
   "name": "python",
   "nbconvert_exporter": "python",
   "pygments_lexer": "ipython3",
   "version": "3.6.5"
  }
 },
 "nbformat": 4,
 "nbformat_minor": 2
}
